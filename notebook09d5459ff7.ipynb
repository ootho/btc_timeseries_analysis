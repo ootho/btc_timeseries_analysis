{
 "cells": [
  {
   "cell_type": "code",
   "execution_count": 1,
   "id": "52582ff8",
   "metadata": {
    "_cell_guid": "b1076dfc-b9ad-4769-8c92-a6c4dae69d19",
    "_uuid": "8f2839f25d086af736a60e9eeb907d3b93b6e0e5",
    "execution": {
     "iopub.execute_input": "2023-03-21T07:21:37.795382Z",
     "iopub.status.busy": "2023-03-21T07:21:37.793737Z",
     "iopub.status.idle": "2023-03-21T07:21:37.815452Z",
     "shell.execute_reply": "2023-03-21T07:21:37.813272Z"
    },
    "papermill": {
     "duration": 0.031773,
     "end_time": "2023-03-21T07:21:37.818310",
     "exception": false,
     "start_time": "2023-03-21T07:21:37.786537",
     "status": "completed"
    },
    "tags": []
   },
   "outputs": [
    {
     "name": "stdout",
     "output_type": "stream",
     "text": [
      "/kaggle/input/bitcoin-usd-btc-usd/BTC-USD(2).csv\n",
      "/kaggle/input/bitcoin-usd-btc-usd/BTC-USD.csv\n"
     ]
    }
   ],
   "source": [
    "# This Python 3 environment comes with many helpful analytics libraries installed\n",
    "# It is defined by the kaggle/python Docker image: https://github.com/kaggle/docker-python\n",
    "# For example, here's several helpful packages to load\n",
    "\n",
    "import numpy as np # linear algebra\n",
    "import pandas as pd # data processing, CSV file I/O (e.g. pd.read_csv)\n",
    "\n",
    "# Input data files are available in the read-only \"../input/\" directory\n",
    "# For example, running this (by clicking run or pressing Shift+Enter) will list all files under the input directory\n",
    "\n",
    "import os\n",
    "for dirname, _, filenames in os.walk('/kaggle/input'):\n",
    "    for filename in filenames:\n",
    "        print(os.path.join(dirname, filename))\n",
    "\n",
    "# You can write up to 20GB to the current directory (/kaggle/working/) that gets preserved as output when you create a version using \"Save & Run All\" \n",
    "# You can also write temporary files to /kaggle/temp/, but they won't be saved outside of the current session"
   ]
  },
  {
   "cell_type": "code",
   "execution_count": 2,
   "id": "3249a0e3",
   "metadata": {
    "execution": {
     "iopub.execute_input": "2023-03-21T07:21:37.828390Z",
     "iopub.status.busy": "2023-03-21T07:21:37.827506Z",
     "iopub.status.idle": "2023-03-21T07:21:37.835414Z",
     "shell.execute_reply": "2023-03-21T07:21:37.833845Z"
    },
    "papermill": {
     "duration": 0.015804,
     "end_time": "2023-03-21T07:21:37.838049",
     "exception": false,
     "start_time": "2023-03-21T07:21:37.822245",
     "status": "completed"
    },
    "tags": []
   },
   "outputs": [
    {
     "name": "stdout",
     "output_type": "stream",
     "text": [
      "Hello World!\n",
      "Hello World!\n",
      "Hello World!\n",
      "Hello World!\n",
      "Hello World!\n",
      "Hello World!\n",
      "Hello World!\n",
      "Hello World!\n",
      "Hello World!\n",
      "Hello World!\n",
      "\n"
     ]
    }
   ],
   "source": [
    "print('Hello World!\\n'*10)"
   ]
  },
  {
   "cell_type": "markdown",
   "id": "89c8a396",
   "metadata": {
    "papermill": {
     "duration": 0.003458,
     "end_time": "2023-03-21T07:21:37.846111",
     "exception": false,
     "start_time": "2023-03-21T07:21:37.842653",
     "status": "completed"
    },
    "tags": []
   },
   "source": [
    "**Сюда можно как-то гит прикрутить?**"
   ]
  },
  {
   "cell_type": "code",
   "execution_count": null,
   "id": "ed17664b",
   "metadata": {
    "papermill": {
     "duration": 0.002921,
     "end_time": "2023-03-21T07:21:37.852539",
     "exception": false,
     "start_time": "2023-03-21T07:21:37.849618",
     "status": "completed"
    },
    "tags": []
   },
   "outputs": [],
   "source": []
  },
  {
   "cell_type": "code",
   "execution_count": 3,
   "id": "fa69a529",
   "metadata": {
    "execution": {
     "iopub.execute_input": "2023-03-21T07:21:37.861264Z",
     "iopub.status.busy": "2023-03-21T07:21:37.860823Z",
     "iopub.status.idle": "2023-03-21T07:21:37.888519Z",
     "shell.execute_reply": "2023-03-21T07:21:37.886923Z"
    },
    "papermill": {
     "duration": 0.035741,
     "end_time": "2023-03-21T07:21:37.891412",
     "exception": false,
     "start_time": "2023-03-21T07:21:37.855671",
     "status": "completed"
    },
    "tags": []
   },
   "outputs": [],
   "source": [
    "df = pd.read_csv('/kaggle/input/bitcoin-usd-btc-usd/BTC-USD(2).csv')"
   ]
  },
  {
   "cell_type": "code",
   "execution_count": 4,
   "id": "0d13da8c",
   "metadata": {
    "execution": {
     "iopub.execute_input": "2023-03-21T07:21:37.902356Z",
     "iopub.status.busy": "2023-03-21T07:21:37.901880Z",
     "iopub.status.idle": "2023-03-21T07:21:37.938594Z",
     "shell.execute_reply": "2023-03-21T07:21:37.935352Z"
    },
    "papermill": {
     "duration": 0.046426,
     "end_time": "2023-03-21T07:21:37.942196",
     "exception": false,
     "start_time": "2023-03-21T07:21:37.895770",
     "status": "completed"
    },
    "tags": []
   },
   "outputs": [
    {
     "name": "stdout",
     "output_type": "stream",
     "text": [
      "<class 'pandas.core.frame.DataFrame'>\n",
      "RangeIndex: 3106 entries, 0 to 3105\n",
      "Data columns (total 7 columns):\n",
      " #   Column     Non-Null Count  Dtype  \n",
      "---  ------     --------------  -----  \n",
      " 0   Date       3106 non-null   object \n",
      " 1   Open       3106 non-null   float64\n",
      " 2   High       3106 non-null   float64\n",
      " 3   Low        3106 non-null   float64\n",
      " 4   Close      3106 non-null   float64\n",
      " 5   Adj Close  3106 non-null   float64\n",
      " 6   Volume     3106 non-null   int64  \n",
      "dtypes: float64(5), int64(1), object(1)\n",
      "memory usage: 170.0+ KB\n"
     ]
    }
   ],
   "source": [
    "df.info()"
   ]
  },
  {
   "cell_type": "code",
   "execution_count": 5,
   "id": "02020df4",
   "metadata": {
    "execution": {
     "iopub.execute_input": "2023-03-21T07:21:37.951294Z",
     "iopub.status.busy": "2023-03-21T07:21:37.950774Z",
     "iopub.status.idle": "2023-03-21T07:21:37.962500Z",
     "shell.execute_reply": "2023-03-21T07:21:37.960783Z"
    },
    "papermill": {
     "duration": 0.019531,
     "end_time": "2023-03-21T07:21:37.965415",
     "exception": false,
     "start_time": "2023-03-21T07:21:37.945884",
     "status": "completed"
    },
    "tags": []
   },
   "outputs": [],
   "source": [
    "df['Date'] = pd.to_datetime(df['Date'])"
   ]
  },
  {
   "cell_type": "code",
   "execution_count": 6,
   "id": "74c442dd",
   "metadata": {
    "execution": {
     "iopub.execute_input": "2023-03-21T07:21:37.975493Z",
     "iopub.status.busy": "2023-03-21T07:21:37.974851Z",
     "iopub.status.idle": "2023-03-21T07:21:37.984124Z",
     "shell.execute_reply": "2023-03-21T07:21:37.983016Z"
    },
    "papermill": {
     "duration": 0.017809,
     "end_time": "2023-03-21T07:21:37.987039",
     "exception": false,
     "start_time": "2023-03-21T07:21:37.969230",
     "status": "completed"
    },
    "tags": []
   },
   "outputs": [],
   "source": [
    "df = df.set_index(df['Date']).drop('Date', axis=1)"
   ]
  },
  {
   "cell_type": "code",
   "execution_count": 7,
   "id": "d9ecc4c6",
   "metadata": {
    "execution": {
     "iopub.execute_input": "2023-03-21T07:21:37.997343Z",
     "iopub.status.busy": "2023-03-21T07:21:37.996883Z",
     "iopub.status.idle": "2023-03-21T07:21:38.003217Z",
     "shell.execute_reply": "2023-03-21T07:21:38.002034Z"
    },
    "papermill": {
     "duration": 0.014412,
     "end_time": "2023-03-21T07:21:38.005564",
     "exception": false,
     "start_time": "2023-03-21T07:21:37.991152",
     "status": "completed"
    },
    "tags": []
   },
   "outputs": [],
   "source": [
    "df = df[['Close', \"Volume\"]]"
   ]
  },
  {
   "cell_type": "code",
   "execution_count": 8,
   "id": "9fde93b2",
   "metadata": {
    "execution": {
     "iopub.execute_input": "2023-03-21T07:21:38.015882Z",
     "iopub.status.busy": "2023-03-21T07:21:38.015208Z",
     "iopub.status.idle": "2023-03-21T07:21:38.390946Z",
     "shell.execute_reply": "2023-03-21T07:21:38.389486Z"
    },
    "papermill": {
     "duration": 0.383759,
     "end_time": "2023-03-21T07:21:38.393048",
     "exception": false,
     "start_time": "2023-03-21T07:21:38.009289",
     "status": "completed"
    },
    "tags": []
   },
   "outputs": [
    {
     "data": {
      "text/plain": [
       "<AxesSubplot:xlabel='Date'>"
      ]
     },
     "execution_count": 8,
     "metadata": {},
     "output_type": "execute_result"
    },
    {
     "data": {
      "image/png": "[encoded data removed]",
      "text/plain": [
       "<Figure size 640x480 with 1 Axes>"
      ]
     },
     "metadata": {},
     "output_type": "display_data"
    }
   ],
   "source": [
    "df['Close'].plot(kind='line')"
   ]
  },
  {
   "cell_type": "code",
   "execution_count": 9,
   "id": "eb5c4032",
   "metadata": {
    "execution": {
     "iopub.execute_input": "2023-03-21T07:21:38.404410Z",
     "iopub.status.busy": "2023-03-21T07:21:38.403701Z",
     "iopub.status.idle": "2023-03-21T07:21:38.852875Z",
     "shell.execute_reply": "2023-03-21T07:21:38.850659Z"
    },
    "papermill": {
     "duration": 0.457723,
     "end_time": "2023-03-21T07:21:38.855338",
     "exception": false,
     "start_time": "2023-03-21T07:21:38.397615",
     "status": "completed"
    },
    "tags": []
   },
   "outputs": [
    {
     "data": {
      "text/plain": [
       "<AxesSubplot:xlabel='Date'>"
      ]
     },
     "execution_count": 9,
     "metadata": {},
     "output_type": "execute_result"
    },
    {
     "data": {
      "image/png": "[encoded data removed]",
      "text/plain": [
       "<Figure size 640x480 with 1 Axes>"
      ]
     },
     "metadata": {},
     "output_type": "display_data"
    }
   ],
   "source": [
    "df['Volume'].plot(kind='line')"
   ]
  },
  {
   "cell_type": "code",
   "execution_count": null,
   "id": "c3c890ee",
   "metadata": {
    "papermill": {
     "duration": 0.004844,
     "end_time": "2023-03-21T07:21:38.865622",
     "exception": false,
     "start_time": "2023-03-21T07:21:38.860778",
     "status": "completed"
    },
    "tags": []
   },
   "outputs": [],
   "source": []
  }
 ],
 "metadata": {
  "kernelspec": {
   "display_name": "Python 3",
   "language": "python",
   "name": "python3"
  },
  "language_info": {
   "codemirror_mode": {
    "name": "ipython",
    "version": 3
   },
   "file_extension": ".py",
   "mimetype": "text/x-python",
   "name": "python",
   "nbconvert_exporter": "python",
   "pygments_lexer": "ipython3",
   "version": "3.7.12"
  },
  "papermill": {
   "default_parameters": {},
   "duration": 12.101719,
   "end_time": "2023-03-21T07:21:39.898977",
   "environment_variables": {},
   "exception": null,
   "input_path": "__notebook__.ipynb",
   "output_path": "__notebook__.ipynb",
   "parameters": {},
   "start_time": "2023-03-21T07:21:27.797258",
   "version": "2.4.0"
  }
 },
 "nbformat": 4,
 "nbformat_minor": 5
}
